{
  "metadata": {
    "kernelspec": {
      "name": "python",
      "display_name": "Python (Pyodide)",
      "language": "python"
    },
    "language_info": {
      "codemirror_mode": {
        "name": "python",
        "version": 3
      },
      "file_extension": ".py",
      "mimetype": "text/x-python",
      "name": "python",
      "nbconvert_exporter": "python",
      "pygments_lexer": "ipython3",
      "version": "3.8"
    },
    "colab": {
      "provenance": []
    }
  },
  "nbformat_minor": 5,
  "nbformat": 4,
  "cells": [
    {
      "id": "KNGAt0J-uWZg",
      "cell_type": "markdown",
      "source": "# Taller Introductorio a Qiskit con IBM Quantum\n\npor José L Rodríguez, Leonardo Zubieta y Mohamed Zouhaier Ramadhane(Zouppa)\nBasado en contenido de Glauco Dos Santos",
      "metadata": {
        "id": "KNGAt0J-uWZg"
      }
    },
    {
      "id": "Z3ZPX7TajFck",
      "cell_type": "code",
      "source": "!pip install qiskit\n!pip install qiskit_aer\n!pip install pylatexenc\n!pip install qiskit_ibm_runtime",
      "metadata": {
        "id": "Z3ZPX7TajFck"
      },
      "outputs": [],
      "execution_count": null
    },
    {
      "id": "2c082be3",
      "cell_type": "markdown",
      "source": "# Definición de librerías\n## OBS - Necesario para Google Colab",
      "metadata": {
        "id": "2c082be3"
      }
    },
    {
      "id": "04bd5459",
      "cell_type": "code",
      "source": "from qiskit import QuantumRegister, ClassicalRegister, QuantumCircuit\nfrom qiskit.circuit.library import *\nfrom qiskit.visualization import plot_bloch_multivector\nfrom qiskit.visualization import plot_bloch_vector\nfrom qiskit_aer import Aer\nfrom qiskit.visualization import plot_bloch_multivector\nimport math\nimport qiskit\nfrom qiskit import qasm3\nfrom qiskit.quantum_info import state_fidelity\nfrom qiskit.quantum_info import DensityMatrix\nfrom qiskit.visualization import plot_state_qsphere\nfrom qiskit import transpile\nfrom qiskit.visualization import plot_state_city, plot_histogram\nfrom qiskit.providers.basic_provider import BasicSimulator\nfrom qiskit import QuantumCircuit\nfrom qiskit_aer import AerSimulator\nfrom qiskit.quantum_info import Statevector\n\nfrom qiskit.circuit.library import GroverOperator, MCMT, ZGate\nfrom qiskit.visualization import plot_distribution\n\n# Imports from Qiskit Runtime\nfrom qiskit_ibm_runtime import QiskitRuntimeService\nfrom qiskit_ibm_runtime import SamplerV2 as Sampler",
      "metadata": {
        "id": "04bd5459"
      },
      "outputs": [],
      "execution_count": null
    },
    {
      "id": "3702a33a",
      "cell_type": "markdown",
      "source": "## Versión de Qiskit usada en este laboratorío",
      "metadata": {
        "id": "3702a33a"
      }
    },
    {
      "id": "c9836c12",
      "cell_type": "code",
      "source": "qiskit.__version__",
      "metadata": {
        "id": "c9836c12"
      },
      "outputs": [],
      "execution_count": null
    },
    {
      "id": "f8a0bfb8",
      "cell_type": "markdown",
      "source": "## Ejemplo 1. Esfera de Bloch\n\n\nUn **QUBIT** es equivalente a un **BIT** en la computación clásica, pero a diferencia de un bit que puede tener solo dos estados, un computador cuántico puede tener múltiples estados simultaneamente. Al leerlo, un qubit tiene dos estados estables, definidos como 0 y 1. Por lo tanto, es imposible \"verificar\" si un qubit está en superposición.\n\n**Observación:** Modifica el código a continuación para expresar diferentes posiciones en BlockSphere. Intenta rotar en X, Y y Z para explorar diferentes posiciones.",
      "metadata": {
        "id": "f8a0bfb8"
      }
    },
    {
      "id": "da3c85d9",
      "cell_type": "code",
      "source": "qc = QuantumCircuit(1,1)\nqc.h(0)\n#qc.rx(math.pi / 8 , 0)\n#qc.rz(math.pi /2, 0)\n#qc.ry(math.pi / 2, 0)\n#qc.draw(output='mpl',style={'backgroundcolor': '#EEEEEE'})\nplot_bloch_multivector(qc)",
      "metadata": {
        "id": "da3c85d9",
        "scrolled": true
      },
      "outputs": [],
      "execution_count": null
    },
    {
      "id": "fe7d27ab",
      "cell_type": "markdown",
      "source": "## Ejemplo 1.1. Cambio de estado por rotación\nCada una de las instrucciones permite rotaciones alrededor de los ejes. Tenemos instrucciones para rotar en los ejes X, Y y Z.\n\n**Observación:** Observa que después de poner en superposición, podemos usar el eje Z para rotar y hacer operaciones aritméticas usando ángulos.",
      "metadata": {
        "id": "fe7d27ab"
      }
    },
    {
      "id": "008a759f",
      "cell_type": "code",
      "source": "qc = QuantumCircuit(1,1)\nqc.rz(math.pi / 4, 0)\nplot_bloch_multivector(qc)",
      "metadata": {
        "id": "008a759f"
      },
      "outputs": [],
      "execution_count": null
    },
    {
      "id": "bbe432b3",
      "cell_type": "markdown",
      "source": "## Ejemplo 1.2. ¿Qué estado tendrá este qubit al medirlo?\nObserva que se puede realizar cualquier posición, pero al leerla, el QUBIT pasa a uno de los estados estables.",
      "metadata": {
        "id": "bbe432b3"
      }
    },
    {
      "id": "3a9d1f08",
      "cell_type": "code",
      "source": "qc = QuantumCircuit(1,1)\nqc.rx(math.pi / 2, 0)\nqc.rz(3 * math.pi/2, 0)\nplot_bloch_multivector(qc)",
      "metadata": {
        "id": "3a9d1f08",
        "scrolled": true
      },
      "outputs": [],
      "execution_count": null
    },
    {
      "id": "bc4b01ae",
      "cell_type": "markdown",
      "source": "## Ejemplo 2. Circuitos cuánticos\nExplora la construcción de un circuito cuántico. Podemos definir el tamaño de registro para QUBITS y BITS clasicos donde se almacena el resultado de la medición.",
      "metadata": {
        "id": "bc4b01ae"
      }
    },
    {
      "id": "2e13d0b9",
      "cell_type": "code",
      "source": "from qiskit import *\nfrom qiskit.providers.basic_provider import BasicSimulator\nfrom qiskit import QuantumCircuit\n\nq = QuantumRegister(1)\nc = ClassicalRegister(1)\nqc = QuantumCircuit(q, c)\nqc.h(0)\nqc.x(0)\nqc.measure(0,0)\nqc.draw(output='mpl')\n",
      "metadata": {
        "id": "2e13d0b9",
        "scrolled": true
      },
      "outputs": [],
      "execution_count": null
    },
    {
      "id": "2328c4b6",
      "cell_type": "markdown",
      "source": "## Ejemplo 2.1 - Compuerta X - NOT\nRecuerde que al principio todos los valores son 0 para los QUBITS. Es posible invertirlos para obtener 1 en su lugar.",
      "metadata": {
        "id": "2328c4b6"
      }
    },
    {
      "id": "9e376d8a",
      "cell_type": "code",
      "source": "qc = QuantumCircuit(1)\nqc.x(0)\nqc.measure_all()\nqc.draw(output='mpl')",
      "metadata": {
        "id": "9e376d8a"
      },
      "outputs": [],
      "execution_count": null
    },
    {
      "id": "64d9e8ec",
      "cell_type": "markdown",
      "source": "## Ejemplo 2.2. Compuerta Hadamard y mediciones\nCon una compuerta Hadamard (H) altera el estado de un qubit desde para tener la misma probabilidad de tener 0 y 1 al momento de una lectura. Para comprobarlo ejecutamos una medición con la compuerta \"measure\" o \"measure_all\" y enviamos por ahora a un simulador cuántico.\n\n##### Nota: Para realizar mediciones por ahora usamos un simulador de un sistema cuántico. En Qiskit puedes modelar parámetros de un sistema (por ejemplo el ruido) antes de enviarlo a un sistema real.\n",
      "metadata": {
        "id": "64d9e8ec"
      }
    },
    {
      "id": "66ae1b31",
      "cell_type": "code",
      "source": "circ = QuantumCircuit(1)\ncirc.h(0)\ncirc.measure_all()\nsimulator = BasicSimulator()\nresult = simulator.run(circ).result()\ncounts = result.get_counts()\nprint(counts)",
      "metadata": {
        "id": "66ae1b31",
        "scrolled": true
      },
      "outputs": [],
      "execution_count": null
    },
    {
      "id": "2e818d69",
      "cell_type": "markdown",
      "source": "**Observación:** Los BITS clásicos solo pueden tener valores 0 o 1.",
      "metadata": {
        "id": "2e818d69"
      }
    },
    {
      "id": "25d2d160",
      "cell_type": "markdown",
      "source": "## Ejemplo 3. Entrelazado y visualización\nEl **entrelazamiento** involucra una operación con más de un QUBIT. Es importante para simular otras puertas lógicas y para muchos calculos.",
      "metadata": {
        "id": "25d2d160"
      }
    },
    {
      "id": "59d16962",
      "cell_type": "code",
      "source": "from qiskit.providers.basic_provider import BasicSimulator\nfrom qiskit import QuantumCircuit\n\ncirc = QuantumCircuit(2,2)\ncirc.h(0)\ncirc.cx(0,1)\ncirc.measure(0,0)\ncirc.measure(1,1)\ncirc.draw(output='mpl')",
      "metadata": {
        "id": "59d16962",
        "scrolled": true
      },
      "outputs": [],
      "execution_count": null
    },
    {
      "id": "MuQJUqBDXO3A",
      "cell_type": "code",
      "source": "simulator = BasicSimulator()\nresult = simulator.run(circ).result()\ncounts = result.get_counts()\nprint(counts)",
      "metadata": {
        "id": "MuQJUqBDXO3A"
      },
      "outputs": [],
      "execution_count": null
    },
    {
      "id": "sJ9z7nl8cv5m",
      "cell_type": "markdown",
      "source": "## Ejemplo 3.1. ¿Qué estado tendrá este experimento?\nEl **entrelazamiento** involucra una operación con más de un QUBIT. Es importante para simular otras puertas lógicas y para muchos calculos.",
      "metadata": {
        "id": "sJ9z7nl8cv5m"
      }
    },
    {
      "id": "2d013ddf",
      "cell_type": "code",
      "source": "from qiskit.providers.basic_provider import BasicSimulator\nfrom qiskit import QuantumCircuit\n\ncirc = QuantumCircuit(2)\ncirc.h(0)\ncirc.h(1)\ncirc.measure_all()\ncirc.draw(output='mpl')",
      "metadata": {
        "id": "2d013ddf",
        "scrolled": true
      },
      "outputs": [],
      "execution_count": null
    },
    {
      "id": "5rPgKlAQcPHC",
      "cell_type": "code",
      "source": "# Ejecuta el experimento del circuito anterior indicando la cantidad de\n# mediciones o shots\nsimulator = BasicSimulator()\nresult = simulator.run(circ, shots=2000).result()\ncounts = result.get_counts()\nprint(counts)",
      "metadata": {
        "id": "5rPgKlAQcPHC"
      },
      "outputs": [],
      "execution_count": null
    },
    {
      "id": "36a09a07",
      "cell_type": "markdown",
      "source": "## Ejemplo 5. Rotaciones\nRotando en los ejes X, Y y Z puedes tener posibilidades de representar estados distintos. Un sistema de cómputo cuántico tiene la capacidad de alterar o controlar el estado sus qubits mediante métodos físicos.",
      "metadata": {
        "id": "36a09a07"
      }
    },
    {
      "id": "ff96287f",
      "cell_type": "code",
      "source": "qc = QuantumCircuit(6)\nqc.x(0)\nqc.y(1)\nqc.z(2)\nqc.rx(math.pi /4, 3)\nqc.ry(math.pi /2, 4)\nqc.rz(math.pi * 2, 5)\nqc.draw(output='mpl')\nplot_bloch_multivector(qc)",
      "metadata": {
        "id": "ff96287f"
      },
      "outputs": [],
      "execution_count": null
    },
    {
      "id": "aNc1rJT8eTco",
      "cell_type": "code",
      "source": "# Ejecuta el experimento del circuito anterior indicando la cantidad de\n# mediciones o shots\nqc.measure_all()\nsimulator = BasicSimulator()\nresult = simulator.run(qc).result()\ncounts = result.get_counts()\nprint(counts)",
      "metadata": {
        "id": "aNc1rJT8eTco"
      },
      "outputs": [],
      "execution_count": null
    },
    {
      "id": "27909c25",
      "cell_type": "markdown",
      "source": "## Ejemplo 6. Compuertas multi-qubit\nLas compuertas multi-qubit permiten manipular el estado del sistema cuantico de formas más complejas.",
      "metadata": {
        "id": "27909c25"
      }
    },
    {
      "id": "3d743198",
      "cell_type": "code",
      "source": "qc = QuantumCircuit(3)\nqc.cx(0, 1)\nqc.cy(0,1)\nqc.cz(0,1)\nqc.swap(0,1)\nqc.ccx(0,1,2)\nqc.ch(0,1)\nqc.draw(output='mpl')",
      "metadata": {
        "id": "3d743198",
        "scrolled": true
      },
      "outputs": [],
      "execution_count": null
    },
    {
      "id": "65b1f26d",
      "cell_type": "markdown",
      "source": "## Ejemplo 7. Compuertas lógicas equivalentes (NAND)\nCon los QUBITS es posible construir cualquier compuerta de una computadora clásica. Por ejemplo, este circuito es equivalente a una puerta NAND",
      "metadata": {
        "id": "65b1f26d"
      }
    },
    {
      "id": "8f534eab",
      "cell_type": "code",
      "source": "qc = QuantumCircuit(3)\n# qc.ccx(0, 1, 2)\n# qc.x(2)\n#qc.cx(0,1)\n#qc.x(0)\nqc.x([0,1])\nqc.ccx(0,1,2)\nqc.x(2)\nqc.draw(output='mpl')",
      "metadata": {
        "id": "8f534eab"
      },
      "outputs": [],
      "execution_count": null
    },
    {
      "id": "0947a8f6",
      "cell_type": "markdown",
      "source": "## Ejemplo 7. Suma con Circuitos cuánticos. Inicializando estado.\nPuedes SUMAR dos números A y B usando QUBITS.",
      "metadata": {
        "id": "0947a8f6"
      }
    },
    {
      "id": "b40fed47",
      "cell_type": "code",
      "source": "# Suma A = A + B\na1 = QuantumRegister(1, \"A1\")\na2 = QuantumRegister(1, \"A2\")\nb1 = QuantumRegister(1, \"B1\")\nb2 = QuantumRegister(1, \"B2\")\nsuma1 = ClassicalRegister(1,\"suma0\")\nsuma2 = ClassicalRegister(1,\"suma1\")\nqc = QuantumCircuit(a1,a2,b1,b2,suma1, suma2)\n\n#qc.x(a1)\n# qc.x(a2)\n#qc.x(b1)\n# qc.x(b1)\n# qc.x(b1)\n\n# Valores iniciales\nsv_inicial = Statevector.from_label('0101')\nqc.initialize(sv_inicial)\n\n\nqc.ccx(a1,b1,a2)\nqc.cx(b1,a1)\nqc.cx(b2,a2)\n\nqc.measure(a1,suma1)\nqc.measure(a2,suma2)\n\nqc.draw(output='mpl',style={'backgroundcolor': '#EEEEEE'})",
      "metadata": {
        "id": "b40fed47"
      },
      "outputs": [],
      "execution_count": null
    },
    {
      "id": "SgutbI2eAcgX",
      "cell_type": "code",
      "source": "#Corre el experimento del circuito anterior\nsimulator = AerSimulator()\nresult = simulator.run(qc).result()\ncounts = result.get_counts()\nprint(counts)",
      "metadata": {
        "id": "SgutbI2eAcgX"
      },
      "outputs": [],
      "execution_count": null
    },
    {
      "id": "1a33c843",
      "cell_type": "markdown",
      "source": "## Ejemplo 8. Superposición para numeros aleatorios\nUno de los usos reales de los QUBIT es la superposición para generar números aleatorios.",
      "metadata": {
        "id": "1a33c843"
      }
    },
    {
      "id": "947426b6",
      "cell_type": "code",
      "source": "qcSuper = QuantumCircuit(4)\nqcSuper.h(0)\nqcSuper.h(1)\nqcSuper.h(2)\nqcSuper.h(3)\nqcSuper.measure_all()\nqcSuper.draw(output='mpl',style={'backgroundcolor': '#EEEEEE'})",
      "metadata": {
        "id": "947426b6",
        "scrolled": true
      },
      "outputs": [],
      "execution_count": null
    },
    {
      "id": "qrJ6lWbkEJ9-",
      "cell_type": "code",
      "source": "#Corre el experimento del circuito anterior\nsimulator = AerSimulator()\nresult = simulator.run(qcSuper).result()\ncounts = result.get_counts()\nprint(counts)",
      "metadata": {
        "id": "qrJ6lWbkEJ9-"
      },
      "outputs": [],
      "execution_count": null
    },
    {
      "id": "131469b7",
      "cell_type": "markdown",
      "source": "## (opcional) Ejemplo 9 - Quantum Fourier Transform (QFT)\nLa QFT utiliza una superposición para iniciar la rotación en el EJE Z y generar valores que representan ángulos y luego armónicos separados de una señal de entrada. Hay muchos temas para explorar en esta representación.",
      "metadata": {
        "id": "131469b7"
      }
    },
    {
      "id": "cabb78e0",
      "cell_type": "code",
      "source": "qc = QuantumCircuit(3)\nqc.h(0)\nqc.h(1)\nqc.h(2)\n\nqc.rz(math.pi /2, 0)\nqc.rz(math.pi ,    1)\nqc.rz(math.pi * 2, 2)\n\n\nqc.h(2)\nqc.crz(math.pi/2, 2, 1)\nqc.crz(math.pi/4, 2, 0)\nqc.h(1)\nqc.crz(math.pi * 2, 1, 0)\nqc.h(0)\nqc.draw(output='mpl',style={'backgroundcolor': '#EEEEEE'})\n#plot_bloch_multivector(qc)",
      "metadata": {
        "id": "cabb78e0"
      },
      "outputs": [],
      "execution_count": null
    },
    {
      "id": "2-DBbd3yh7y3",
      "cell_type": "markdown",
      "source": "# Ejemplo 9.1. Ejecución en un sistema cuántico real de IBM Quantum\nToma tu token de (https://quantum.ibm.com/) copialo y ponlo entre comillas en la variable token.\n\nSi aun no tienes cuenta en IBM Cloud (IBM ID) registrate en: https://cloud.ibm.com/registration\n\nEs posible que tengas que crear antes tu Qiskit Runtime en una cuenta de IBM Cloud: https://cloud.ibm.com/docs/quantum-computing?topic=quantum-computing-get-started",
      "metadata": {
        "id": "2-DBbd3yh7y3"
      }
    },
    {
      "id": "cie4vKxli00a",
      "cell_type": "code",
      "source": "service = QiskitRuntimeService(channel=\"ibm_quantum\", token=\"TuToken\")",
      "metadata": {
        "id": "cie4vKxli00a"
      },
      "outputs": [],
      "execution_count": null
    },
    {
      "id": "hw1yca8VjWky",
      "cell_type": "markdown",
      "source": "Elegimos el sistema cuántico menos utilizado de IBM para correr nuestro circuito",
      "metadata": {
        "id": "hw1yca8VjWky"
      }
    },
    {
      "id": "oCjbitLGjFq0",
      "cell_type": "code",
      "source": "backend = service.least_busy(operational=True, simulator=False)\nbackend.name",
      "metadata": {
        "id": "oCjbitLGjFq0"
      },
      "outputs": [],
      "execution_count": null
    },
    {
      "id": "Yzfk-oT8jwA6",
      "cell_type": "markdown",
      "source": "Optimizamos nuestro último circuito para correrlo en el sistema elegido",
      "metadata": {
        "id": "Yzfk-oT8jwA6"
      }
    },
    {
      "id": "RqH_hLZUj4yp",
      "cell_type": "code",
      "source": "from qiskit.transpiler.preset_passmanagers import generate_preset_pass_manager\n\ntarget = backend.target\npm = generate_preset_pass_manager(target=target, optimization_level=3)\n\ncircuit_isa = pm.run(qcSuper)\ncircuit_isa.draw(output=\"mpl\", idle_wires=False, style=\"iqp\")",
      "metadata": {
        "id": "RqH_hLZUj4yp"
      },
      "outputs": [],
      "execution_count": null
    },
    {
      "id": "rLZDiVcgk0fA",
      "cell_type": "markdown",
      "source": "Ejecutamos el circuito en el sistema real",
      "metadata": {
        "id": "rLZDiVcgk0fA"
      }
    },
    {
      "id": "wxWyejKjk0zD",
      "cell_type": "code",
      "source": "# Usamos primitivos de Qiskit para simplificar el código y la ejecución.\n# En este caso uno de tipo Sampler. Como queremos ver una distribución de\n# mediciones usamos un primitivo Sampler.\nsampler = Sampler(mode=backend)\nsampler.options.default_shots = 10_000\nresult = sampler.run([circuit_isa]).result()\ndist = result[0].data.meas.get_counts()",
      "metadata": {
        "id": "wxWyejKjk0zD"
      },
      "outputs": [],
      "execution_count": null
    },
    {
      "id": "Crg-8-Lip2Fb",
      "cell_type": "markdown",
      "source": "Presentamos resultados del hardware cuántico real",
      "metadata": {
        "id": "Crg-8-Lip2Fb"
      }
    },
    {
      "id": "HdjkPUTop4UY",
      "cell_type": "code",
      "source": "plot_distribution(dist)",
      "metadata": {
        "id": "HdjkPUTop4UY"
      },
      "outputs": [],
      "execution_count": null
    },
    {
      "id": "d7698361",
      "cell_type": "markdown",
      "source": "## Ejemplo 10. Mapa de Qubits\nQiskit puede soportar muchas implementaciones de hardware. Para ello, es posible definir la topología de los QUBIT para un hardware en particular. A esto lo llamamos MAP. Este es un ejemplo de MAP utilizado para representar un hardware específico.",
      "metadata": {
        "id": "d7698361"
      }
    },
    {
      "id": "27deda26",
      "cell_type": "code",
      "source": "from qiskit.visualization import plot_coupling_map\nnum_qubits = 10\n\ncoupling_map = [[0,1],[1,3],[0,2],[2,4],[4,6], [6,8], [3,5], [5,7],[7,9], [4,5], [8,9]]\n# conexiones entre QUBITS\nqubit_coordinates = [[0,1], [1, 2], [0, 3], [1, 4], [0,5], [1,6], [0,7], [1,8], [0,9], [1,10]]\n# capa\nplot_coupling_map(num_qubits, qubit_coordinates, coupling_map)",
      "metadata": {
        "id": "27deda26"
      },
      "outputs": [],
      "execution_count": null
    },
    {
      "id": "09e03eb2",
      "cell_type": "markdown",
      "source": "## Ejemplo 11. Descomposición\nHay algunas instrucciones que no se pueden representar en ciertos sistemas de hardware. Es posible descomponer un circuito para utilizar instrucciones más \"genéricas\" y \"simples\", proporcionando una forma de ejecutarlo en hardware limitado o diferente. Esto suele hacerse internamente por qiskit para su ejecución.",
      "metadata": {
        "id": "09e03eb2"
      }
    },
    {
      "id": "0bb8d9a5",
      "cell_type": "code",
      "source": "qc = QuantumCircuit (3)\nqc.ccx (0,1,2)\nqc.decompose().draw (style={'backgroundcolor': '#EEEEEE'}, output='mpl') #D - OK, BUT DECOMPOSE",
      "metadata": {
        "id": "0bb8d9a5"
      },
      "outputs": [],
      "execution_count": null
    },
    {
      "id": "fc47277c",
      "cell_type": "markdown",
      "source": "## Ejemplo 12. Preparación para transpilación: Agrupación\nEs posible agrupar elementos y el objetivo es optimizar el trabajo del transpilador.",
      "metadata": {
        "id": "fc47277c"
      }
    },
    {
      "id": "48a12246",
      "cell_type": "code",
      "source": "from qiskit import QuantumRegister, ClassicalRegister, QuantumCircuit\nfrom qiskit.visualization import plot_bloch_multivector\n\nqc = QuantumCircuit(3, 3)\nqc.h(0)\nqc.barrier(0)\nqc.cx(0,1)\nqc.barrier([0,1])\ndepth = qc.depth()\nprint(depth)\nqc.draw(style={'backgroundcolor': '#EEEEEE'}, output='mpl')",
      "metadata": {
        "id": "48a12246"
      },
      "outputs": [],
      "execution_count": null
    },
    {
      "id": "67cebb53",
      "cell_type": "markdown",
      "source": "## Ejemplo 13. Código Qiskit a QASM.\nTodo el código QISKIT se convierte a un ensamblador llamado QASM. Este es el código real que se ejecuta en un hardware cúantico real.",
      "metadata": {
        "id": "67cebb53"
      }
    },
    {
      "id": "5f780cca",
      "cell_type": "code",
      "source": "from qiskit.qasm3 import *\nfrom qiskit.qasm3 import dumps\nqc = QuantumCircuit(1, 1)\nqc.h(0)\nqc.x(0)\n\nprint(dumps(qc))",
      "metadata": {
        "id": "5f780cca"
      },
      "outputs": [],
      "execution_count": null
    },
    {
      "id": "cf9da7e0",
      "cell_type": "markdown",
      "source": "## Ejemplo 14. Codigo QASM a Qiskit\nTambién es posible realizar la operación inversa, convirtiendo un código ensamblador en un conjunto de instrucciones de alto nivel de QISKIT.",
      "metadata": {
        "id": "cf9da7e0"
      }
    },
    {
      "id": "311d15ba",
      "cell_type": "code",
      "source": "qasm_str = \"\"\"OPENQASM 2.0;\ninclude \"qelib1.inc\";\nqreg q[2];\ncreg c[2];\nh q[0];\ncx q[0],q[1];\nmeasure q -> c;\n\"\"\"\nqc = QuantumCircuit.from_qasm_str(qasm_str)\nqc.draw(style={'backgroundcolor': '#EEEEEE'})",
      "metadata": {
        "id": "311d15ba"
      },
      "outputs": [],
      "execution_count": null
    },
    {
      "id": "4aa6a066",
      "cell_type": "markdown",
      "source": "## Ejemplo 15. Control y Bucles en Qiskit\nPodemos mezclar algunas declaraciones del lenguaje de programación tradicional para hacer un código más rico usando QISKIT",
      "metadata": {
        "id": "4aa6a066"
      }
    },
    {
      "id": "043d2570",
      "cell_type": "code",
      "source": "qreg = QuantumRegister(2)\ncreg = ClassicalRegister(2)\nqc = QuantumCircuit(qreg, creg)\nwith qc.switch(creg) as case:\n    with case(0):\n        qc.x(0)\n    with case(1):\n        qc.x(1)\n\nqasm_string = qasm3.dumps(qc, experimental=qasm3.ExperimentalFeatures.SWITCH_CASE_V1)\nprint(qasm_string)",
      "metadata": {
        "id": "043d2570"
      },
      "outputs": [],
      "execution_count": null
    },
    {
      "id": "49dbd21d",
      "cell_type": "markdown",
      "source": "## Ejemplo 16. Visualizaciones: QSphere.\nQiskit tiene un amplio conjunto de representaciones visuales para proporcionar gráficos. El QSphere representa el statevector de cada estado del sistema cuantico junto con su fase.",
      "metadata": {
        "id": "49dbd21d"
      }
    },
    {
      "id": "07c921bc",
      "cell_type": "code",
      "source": "qc = QuantumCircuit(2)\nqc.ry(math.pi, 0)\nqc.h(1)\n\nmatrix = DensityMatrix(qc)\nplot_state_qsphere(matrix, show_state_phases = False, use_degrees = False)",
      "metadata": {
        "id": "07c921bc",
        "scrolled": true
      },
      "outputs": [],
      "execution_count": null
    },
    {
      "id": "7ea73485",
      "cell_type": "markdown",
      "source": "## Ejemplo 17. Visualizaciones: Histograma\nNo sólo están disponibles representaciones individuales, sino también gráficos como histogramas para simular un grupo de ejecuciones.",
      "metadata": {
        "id": "7ea73485"
      }
    },
    {
      "id": "bec1d9fb",
      "cell_type": "code",
      "source": "qc = QuantumCircuit(2,2)\nqc.h(0)\nqc.h(1)\nqc.cx(0,1)\n\ncirc.measure_all()\n\nsimulator = BasicSimulator()\nresult = simulator.run(circ).result()\ncounts = result.get_counts()\n\ncounts1 = {'00': 525, '11': 499}\ncounts2 = {'00': 511, '11': 514}\n\nlegend = ['First execution', 'second execution']\n\n#plot_histogram([counts], legend=legend, color=['crimson'],  title=\"Histograma\")\nplot_histogram([counts1, counts2], legend=legend, color=['crimson', 'midnightblue'], title=\"Histograma\")",
      "metadata": {
        "id": "bec1d9fb",
        "scrolled": true
      },
      "outputs": [],
      "execution_count": null
    },
    {
      "id": "36e60710",
      "cell_type": "markdown",
      "source": "## Ejemplo 18. Visualizaciones: State City.\n*State City* es otro tipo de gráfica disponible para representar estados en un sistema de varios QUBITS.",
      "metadata": {
        "id": "36e60710"
      }
    },
    {
      "id": "54ba61ae",
      "cell_type": "code",
      "source": "qc = QuantumCircuit(2,2)\nqc.h(0)\nqc.h(1)\nqc.cx(0,1)\nqc.measure_all()\n\n# Current\nqc.remove_final_measurements()  # no measurements allowed\nstatevector = Statevector(qc)\nplot_state_city(statevector)",
      "metadata": {
        "id": "54ba61ae",
        "scrolled": true
      },
      "outputs": [],
      "execution_count": null
    },
    {
      "id": "86ca0318",
      "cell_type": "markdown",
      "source": "## Ejemplo 18. Representación de Statevector.\nLos estados se pueden imprimir (similar a la representación KET). Esto muestra el estado probabilístico de un QUBIT",
      "metadata": {
        "id": "86ca0318"
      }
    },
    {
      "id": "a0727327",
      "cell_type": "code",
      "source": "from qiskit import QuantumCircuit\nfrom math import sqrt\nfrom qiskit.quantum_info import Statevector\n\nqc = QuantumCircuit(1)\nqc.h(0)\n# qc.h(1)\n# qc.cx(1, 2)\nqc.measure_all()\n\nqc.remove_final_measurements()\nstatevector = Statevector(qc)\nprint(statevector)",
      "metadata": {
        "id": "a0727327"
      },
      "outputs": [],
      "execution_count": null
    },
    {
      "id": "e7773705",
      "cell_type": "markdown",
      "source": "## Ejemplo 19. Probabilidad del experimento\nY también es posible mostrar los resultados probabilísticos para un conjunto de ejecuciones.",
      "metadata": {
        "id": "e7773705"
      }
    },
    {
      "id": "546d6c87",
      "cell_type": "code",
      "source": "from qiskit.providers.basic_provider import BasicSimulator\nfrom qiskit import QuantumCircuit\n\ncirc = QuantumCircuit(1)\ncirc.h(0)\ncirc.measure_all()\n\nsimulator = BasicSimulator()\nresult = simulator.run(circ).result()\ncounts = result.get_counts()\nprint(counts)",
      "metadata": {
        "id": "546d6c87"
      },
      "outputs": [],
      "execution_count": null
    },
    {
      "id": "ay_FMv_TYgLY",
      "cell_type": "markdown",
      "source": "# Ejemplo 20. (Avanzado) Algoritmo de Grover en un sistema cuantico real de IBM. Uso de Primitivos.\n\n#### Ver https://learning.quantum.ibm.com/tutorial/grovers-algorithm\n\nPara este ejercicio tienes que crear un IBM ID en el sitio https://quantum.ibm.com/account una vez que tengas tu cuenta creada usa la API Key en la variable \"token\" de este ejercicio.",
      "metadata": {
        "id": "ay_FMv_TYgLY"
      }
    },
    {
      "id": "InVX23HzaJv_",
      "cell_type": "code",
      "source": "# Toma tu token de (https://quantum.ibm.com/) copialo y ponlo entre comillas\n# en la variable token\nservice = QiskitRuntimeService(channel=\"ibm_quantum\", token=\"<Tu_Token>\")",
      "metadata": {
        "id": "InVX23HzaJv_"
      },
      "outputs": [],
      "execution_count": null
    },
    {
      "id": "Qo1HQefEZMRW",
      "cell_type": "code",
      "source": "# Elegimos el sistema cuántico menos utilizado de IBM para correr nuestro circuito\nbackend = service.least_busy(operational=True, simulator=False)\nbackend.name",
      "metadata": {
        "id": "Qo1HQefEZMRW"
      },
      "outputs": [],
      "execution_count": null
    },
    {
      "id": "g7hiGds8b9Re",
      "cell_type": "code",
      "source": "# Función para construir una función oráculo indicando estados en modo binario.\n# El oráculo es una forma de representar el problema que queremos resolver\n# y es expresada como un circuito.\n\ndef grover_oracle(marked_states):\n    \"\"\"Construye el oráculo de Grover tomando estados marcados como\n    numeros binarios (los numeros\n    que quieres encontrar en una lista)\n\n    Se asume que los números tienen la misma cantidad de bits.\n\n    Parameters:\n        marked_states (str or list): Estados marcados del oráculo\n\n    Returns:\n        QuantumCircuit: El circuito que representa el oráculo de Grover.\n    \"\"\"\n    if not isinstance(marked_states, list):\n        marked_states = [marked_states]\n    # Compute the number of qubits in circuit\n    num_qubits = len(marked_states[0])\n\n    qc = QuantumCircuit(num_qubits)\n    # Mark each target state in the input list\n    for target in marked_states:\n        # Flip target bit-string to match Qiskit bit-ordering\n        rev_target = target[::-1]\n        # Find the indices of all the '0' elements in bit-string\n        zero_inds = [ind for ind in range(num_qubits) if rev_target.startswith(\"0\", ind)]\n        # Add a multi-controlled Z-gate with pre- and post-applied X-gates (open-controls)\n        # where the target bit-string has a '0' entry\n        qc.x(zero_inds)\n        qc.compose(MCMT(ZGate(), num_qubits - 1, 1), inplace=True)\n        qc.x(zero_inds)\n    return qc",
      "metadata": {
        "id": "g7hiGds8b9Re"
      },
      "outputs": [],
      "execution_count": null
    },
    {
      "id": "iUbCaiOIdHN3",
      "cell_type": "code",
      "source": "# Creamos el oráculo para los números que quiero encontrar\n\nmarked_states = [\"011\", \"100\"]\n\noracle = grover_oracle(marked_states)\noracle.draw(output=\"mpl\", style=\"iqp\")",
      "metadata": {
        "id": "iUbCaiOIdHN3"
      },
      "outputs": [],
      "execution_count": null
    },
    {
      "id": "NAsQU2IldIgO",
      "cell_type": "code",
      "source": "# Usamos una librería de Qiskit que toma el oráculo generado y crea un circuito\n# que ayudará a amplificar los estados marcados. Usamos la descomposición que\n# mostramos antes para ver el circuito resultante\n\ngrover_op = GroverOperator(oracle)\n#grover_op.decompose().draw(output=\"mpl\", style=\"iqp\")",
      "metadata": {
        "id": "NAsQU2IldIgO"
      },
      "outputs": [],
      "execution_count": null
    },
    {
      "id": "H25b4zOgdmW5",
      "cell_type": "code",
      "source": "# Buscamos la cantidad de iteraciones que debemos ejecutar el circuito para\n# encontrar los estados marcados.\n\noptimal_num_iterations = math.floor(\n    math.pi / (4 * math.asin(math.sqrt(len(marked_states) / 2**grover_op.num_qubits)))\n)\noptimal_num_iterations",
      "metadata": {
        "id": "H25b4zOgdmW5"
      },
      "outputs": [],
      "execution_count": null
    },
    {
      "id": "1jP0rdf3eRBA",
      "cell_type": "code",
      "source": "# Creamos el circuito completo\n\nqc = QuantumCircuit(grover_op.num_qubits)\n# Empezamos superponiendo todos los qubits con compuertas H\nqc.h(range(grover_op.num_qubits))\n# Aplicamos el operador las veces indicadas.\nqc.compose(grover_op.power(optimal_num_iterations), inplace=True)\n# Medimos todos los qubits\nqc.measure_all()\nqc.draw(output=\"mpl\", style=\"iqp\")",
      "metadata": {
        "id": "1jP0rdf3eRBA"
      },
      "outputs": [],
      "execution_count": null
    },
    {
      "id": "VK4U3hFrexjF",
      "cell_type": "code",
      "source": "# Optimizamos el circuito para el sistema cuántico donde vamos a ejecutarlo\nfrom qiskit.transpiler.preset_passmanagers import generate_preset_pass_manager\n\ntarget = backend.target\npm = generate_preset_pass_manager(target=target, optimization_level=3)\n\ncircuit_isa = pm.run(qc)\ncircuit_isa.draw(output=\"mpl\", idle_wires=False, style=\"iqp\")",
      "metadata": {
        "id": "VK4U3hFrexjF"
      },
      "outputs": [],
      "execution_count": null
    },
    {
      "id": "ZlrhGH7CfYPT",
      "cell_type": "code",
      "source": "# Usamos primitivos de Qiskit Runtime para simplificar el código y la ejecución.\n# En este caso uno de tipo Sampler. El problema de amplificación de amplitudes\n# es en escencia un problema de muestreo.\nsampler = Sampler(mode=backend)\nsampler.options.default_shots = 10_000\nresult = sampler.run([circuit_isa]).result()\ndist = result[0].data.meas.get_counts()",
      "metadata": {
        "id": "ZlrhGH7CfYPT"
      },
      "outputs": [],
      "execution_count": null
    },
    {
      "id": "X0shrVkLgaLU",
      "cell_type": "code",
      "source": "# Presentamos resultados\nplot_distribution(dist)",
      "metadata": {
        "id": "X0shrVkLgaLU"
      },
      "outputs": [],
      "execution_count": null
    },
    {
      "id": "I7XJXR3xhATp",
      "cell_type": "code",
      "source": "",
      "metadata": {
        "id": "I7XJXR3xhATp"
      },
      "outputs": [],
      "execution_count": null
    }
  ]
}